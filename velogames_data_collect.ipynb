{
 "cells": [
  {
   "cell_type": "markdown",
   "id": "7785e6a6",
   "metadata": {},
   "source": [
    "# Velogames Model\n",
    "\n",
    "The purpose of this script is to learn some basic Python skills by training a predictive model from data collected on the internet.<br>\n",
    "The predictive model will attempt to develop the optimal Velogames team for the 2023 Grand Tour season\n"
   ]
  },
  {
   "cell_type": "code",
   "execution_count": 28,
   "id": "001de03c",
   "metadata": {},
   "outputs": [],
   "source": [
    "import pandas as pd\n",
    "from bs4 import BeautifulSoup\n",
    "import requests\n",
    "import re\n",
    "import numpy as np \n",
    "import time"
   ]
  },
  {
   "cell_type": "markdown",
   "id": "d21a6dfe",
   "metadata": {},
   "source": [
    "### Collect training data from Velogames\n",
    "This section creates a csv file with the riders and their Velogames score from past grand tours"
   ]
  },
  {
   "cell_type": "code",
   "execution_count": null,
   "id": "42e2642c",
   "metadata": {},
   "outputs": [],
   "source": [
    "def get_velogame_data(races,years):\n",
    "    search_string_list=[,,]\n",
    "    \n",
    "    for race in races:        \n",
    "        if race not in ['france','italy','spain']:\n",
    "            continue\n",
    "        for year in years:\n",
    "            search_string_list.append(race,year,\"https://www.velogames.com/\"+race.replace('France','velogame')+\"/\"+year+\"/riders.php\")\n",
    "            \n",
    "    for velogame in search_string_list:\n",
    "        page = requests.get(velogame)\n",
    "        print(\"Status Code {} {}: {}\".format(race, year, page.status_code)) #Status 200 = good\n",
    "        \n",
    "        soup = BeautifulSoup(page.content,'html.parser')\n",
    "        \n",
    "        "
   ]
  },
  {
   "cell_type": "code",
   "execution_count": 9,
   "id": "83d1e2cf",
   "metadata": {},
   "outputs": [
    {
     "name": "stdout",
     "output_type": "stream",
     "text": [
      "Collecting Data from https://www.velogames.com/italy/2022/riders.php\n",
      "Status Code: 200\n"
     ]
    }
   ],
   "source": [
    "race = 'italy'\n",
    "year = '2022'\n",
    "\n",
    "search_string = \"https://www.velogames.com/\"+race.replace('france','velogame')+\"/\"+year+\"/riders.php\"\n",
    "print(\"Collecting Data from {}\".format(search_string))\n",
    "      \n",
    "page = requests.get(\"https://www.velogames.com/\"+race.replace('france','velogame')+\"/\"+year+\"/riders.php\")\n",
    "print(\"Status Code: {}\".format(page.status_code)) #Status 200 = good\n",
    "\n",
    "soup = BeautifulSoup(page.content,'html.parser')\n",
    "\n",
    "      "
   ]
  },
  {
   "cell_type": "code",
   "execution_count": 10,
   "id": "9d6af9c0",
   "metadata": {},
   "outputs": [
    {
     "name": "stdout",
     "output_type": "stream",
     "text": [
      "[['Rider_Link', 'Rider', 'Team', 'Class', 'Cost', 'Selected', 'Points'], ['riderprofile.php?rider=20220570', 'Richard Carapaz', 'INEOS Grenadiers', 'All Rounder', '24', '56.3%', '2244'], ['riderprofile.php?rider=20220952', 'Simon Yates', 'Team BikeExchange - Jayco', 'Climber', '22', '27.8%', '666'], ['riderprofile.php?rider=20221068', 'João Almeida', 'UAE Team Emirates', 'All Rounder', '20', '41.2%', '985'], ['riderprofile.php?rider=20220173', 'Mikel Landa', 'Bahrain - Victorious', 'Climber', '18', '11.4%', '1432']]\n"
     ]
    }
   ],
   "source": [
    "header_list=[]\n",
    "vg_rider_data_staged = []\n",
    "\n",
    "#Collect table headers - these can be different between races and years\n",
    "tbl_headers = soup.select('div[class=\"main-container\"] th b')\n",
    "vg_rider_data_staged.append([header.get_text() for header in tbl_headers])\n",
    "vg_rider_data_staged[0].insert(0,'Rider_Link')\n",
    "\n",
    "#Collect table data\n",
    "tbl_data = soup.select('div[class=\"main-container\"] tbody tr')\n",
    "for tbl_row in tbl_data:\n",
    "    vg_rider_data_staged.append([tbl_cell.get_text(\",\") for tbl_cell in tbl_row.find_all('td')])\n",
    "    vg_rider_data_staged[-1][0]=tbl_row.find('a')['href']\n",
    "    \n",
    "print(vg_rider_data_staged[:5])\n"
   ]
  },
  {
   "cell_type": "code",
   "execution_count": 33,
   "id": "b62b9813",
   "metadata": {},
   "outputs": [
    {
     "name": "stdout",
     "output_type": "stream",
     "text": [
      "Collecting Data from https://www.velogames.com/italy/2022/riderprofile.php?rider=20220570\n",
      "Status Code: 200\n",
      "[['\\n,Round,\\n,Stg,\\n,GC,\\n,PC,\\n,KOM,\\n,Spr,\\n,Sum,\\n,Bky,\\n,Ass,\\n,Tot,\\n,\\n']]\n",
      "Collecting Data from https://www.velogames.com/italy/2022/riderprofile.php?rider=20220952\n",
      "Status Code: 200\n",
      "[['\\n,Round,\\n,Stg,\\n,GC,\\n,PC,\\n,KOM,\\n,Spr,\\n,Sum,\\n,Bky,\\n,Ass,\\n,Tot,\\n,\\n'], ['\\n,Round,\\n,Stg,\\n,GC,\\n,PC,\\n,KOM,\\n,Spr,\\n,Sum,\\n,Bky,\\n,Ass,\\n,Tot,\\n,\\n']]\n",
      "Collecting Data from https://www.velogames.com/italy/2022/riderprofile.php?rider=20221068\n",
      "Status Code: 200\n",
      "[['\\n,Round,\\n,Stg,\\n,GC,\\n,PC,\\n,KOM,\\n,Spr,\\n,Sum,\\n,Bky,\\n,Ass,\\n,Tot,\\n,\\n'], ['\\n,Round,\\n,Stg,\\n,GC,\\n,PC,\\n,KOM,\\n,Spr,\\n,Sum,\\n,Bky,\\n,Ass,\\n,Tot,\\n,\\n'], ['\\n,Round,\\n,Stg,\\n,GC,\\n,PC,\\n,KOM,\\n,Spr,\\n,Sum,\\n,Bky,\\n,Ass,\\n,Tot,\\n,\\n']]\n",
      "Collecting Data from https://www.velogames.com/italy/2022/riderprofile.php?rider=20220173\n",
      "Status Code: 200\n",
      "[['\\n,Round,\\n,Stg,\\n,GC,\\n,PC,\\n,KOM,\\n,Spr,\\n,Sum,\\n,Bky,\\n,Ass,\\n,Tot,\\n,\\n'], ['\\n,Round,\\n,Stg,\\n,GC,\\n,PC,\\n,KOM,\\n,Spr,\\n,Sum,\\n,Bky,\\n,Ass,\\n,Tot,\\n,\\n'], ['\\n,Round,\\n,Stg,\\n,GC,\\n,PC,\\n,KOM,\\n,Spr,\\n,Sum,\\n,Bky,\\n,Ass,\\n,Tot,\\n,\\n'], ['\\n,Round,\\n,Stg,\\n,GC,\\n,PC,\\n,KOM,\\n,Spr,\\n,Sum,\\n,Bky,\\n,Ass,\\n,Tot,\\n,\\n']]\n"
     ]
    }
   ],
   "source": [
    "header_list=[]\n",
    "vg_rider_points_data_staged = []\n",
    "\n",
    "for rider in vg_rider_data_staged[1:5]:\n",
    "    search_string = \"https://www.velogames.com/\"+race.replace('france','velogame')+\"/\"+year+\"/\"+rider[0]\n",
    "    print(\"Collecting Data from {}\".format(search_string))\n",
    "    page = requests.get(search_string)\n",
    "    print(\"Status Code: {}\".format(page.status_code)) #Status 200 = good\n",
    "    soup = BeautifulSoup(page.content,'html.parser')\n",
    "    \n",
    "    #Collect table headers\n",
    "    tbl_headers = soup.select('table thead')\n",
    "    vg_rider_points_data_staged.append([header.get_text(',') for header in tbl_headers])\n",
    "  \n",
    "    print(vg_rider_points_data_staged)\n",
    "    \n",
    "    \n",
    "    time.sleep(1)"
   ]
  },
  {
   "cell_type": "markdown",
   "id": "cdc8d009",
   "metadata": {},
   "source": [
    "### Get the PCS name keys\n",
    "\n",
    "This section creates a csv file with the names of top riders as well as the associated PCS name key which is used to query individual rider results later on. "
   ]
  },
  {
   "cell_type": "code",
   "execution_count": 2,
   "id": "0d8ba915",
   "metadata": {},
   "outputs": [
    {
     "name": "stdout",
     "output_type": "stream",
     "text": [
      "Status Code 0: 200\n",
      "Status Code 1: 200\n",
      "Status Code 2: 200\n"
     ]
    }
   ],
   "source": [
    "rider_list=['PCS_key,Lname,Fname']\n",
    "n = 3 #n page requests will be made, n*100 riders will be collected\n",
    "\n",
    "for i in range(n):\n",
    "    \n",
    "    #Query the PCS Rankings site to get a list of riders\n",
    "    seach_string = \"https://www.procyclingstats.com/rankings.php?date=2021-12-31&nation=&age=&zage=&page=smallerorequal&team=&offset=\"+str(100*i)+\"&teamlevel=&filter=Filter\"\n",
    "    page = requests.get(seach_string)\n",
    "    print(\"Status Code {}: {}\".format(i, page.status_code)) #Status 200 = good\n",
    "    \n",
    "    #Use BS to pull the PCS name key, Fname and Lname\n",
    "    soup = BeautifulSoup(page.content,'html.parser')\n",
    "    riders = soup.select('tr a[href^=\"rider/\"]')\n",
    "    \n",
    "    #Create a list of the PCS name key as well as the first and last name of the rider\n",
    "    for rider in riders:\n",
    "        rider_list.append(rider['href'].replace(\"rider/\",\"\")+\",\"+rider.find('span').get_text()+\",\"+rider.find('span').next_sibling.strip())"
   ]
  },
  {
   "cell_type": "code",
   "execution_count": 3,
   "id": "88b98e32",
   "metadata": {},
   "outputs": [
    {
     "name": "stdout",
     "output_type": "stream",
     "text": [
      "Information for 301 riders has been collected.\n",
      "\n",
      "Top 10 results are shown below:\n"
     ]
    },
    {
     "data": {
      "text/plain": [
       "['PCS_key,Lname,Fname',\n",
       " 'tadej-pogacar,Pogačar,Tadej',\n",
       " 'wout-van-aert,van Aert,Wout',\n",
       " 'primoz-roglic,Roglič,Primož',\n",
       " 'julian-alaphilippe,Alaphilippe,Julian',\n",
       " 'joao-almeida,Almeida,João',\n",
       " 'sonny-colbrelli,Colbrelli,Sonny',\n",
       " 'jasper-philipsen,Philipsen,Jasper',\n",
       " 'egan-bernal,Bernal,Egan',\n",
       " 'adam-yates,Yates,Adam']"
      ]
     },
     "execution_count": 3,
     "metadata": {},
     "output_type": "execute_result"
    }
   ],
   "source": [
    "n=10\n",
    "print('Information for {} riders has been collected.\\n'.format(len(rider_list)))\n",
    "\n",
    "print('Top {} results are shown below:'.format(n))\n",
    "rider_list[:n]"
   ]
  },
  {
   "cell_type": "code",
   "execution_count": 4,
   "id": "694f7c06",
   "metadata": {},
   "outputs": [],
   "source": [
    "np.savetxt(\"/home/quixote/Documents/project_data/pcs_rider_list.csv\",rider_list,delimiter=\",\",fmt='% s')"
   ]
  },
  {
   "cell_type": "code",
   "execution_count": 6,
   "id": "7b55734e",
   "metadata": {},
   "outputs": [],
   "source": [
    "del rider_list, soup, riders, page"
   ]
  },
  {
   "cell_type": "code",
   "execution_count": null,
   "id": "c6258501",
   "metadata": {},
   "outputs": [],
   "source": []
  }
 ],
 "metadata": {
  "kernelspec": {
   "display_name": "Python 3 (ipykernel)",
   "language": "python",
   "name": "python3"
  },
  "language_info": {
   "codemirror_mode": {
    "name": "ipython",
    "version": 3
   },
   "file_extension": ".py",
   "mimetype": "text/x-python",
   "name": "python",
   "nbconvert_exporter": "python",
   "pygments_lexer": "ipython3",
   "version": "3.9.2"
  }
 },
 "nbformat": 4,
 "nbformat_minor": 5
}
